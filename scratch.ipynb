{
 "cells": [
  {
   "cell_type": "code",
   "execution_count": 1,
   "metadata": {},
   "outputs": [],
   "source": [
    "%load_ext autoreload\n",
    "%autoreload 2\n",
    "import pandas as pd\n",
    "import numpy as np\n",
    "import utils as ut\n",
    "from decision_tree import DecisionTree\n",
    "from math import log2\n",
    "from utils import count_vals\n",
    "from sklearn import model_selection as ms\n",
    "from sklearn import metrics as mt\n",
    "import matplotlib.pyplot as plt"
   ]
  },
  {
   "cell_type": "markdown",
   "metadata": {},
   "source": [
    "## Loading data"
   ]
  },
  {
   "cell_type": "code",
   "execution_count": 3,
   "metadata": {},
   "outputs": [],
   "source": [
    "path = \"magic04.data\"\n",
    "\n",
    "data = pd.read_csv(path, header=None).to_numpy()\n",
    "\n",
    "x = data[:, 0:9]\n",
    "y = data[:, 10]"
   ]
  },
  {
   "cell_type": "code",
   "execution_count": 4,
   "metadata": {},
   "outputs": [
    {
     "name": "stdout",
     "output_type": "stream",
     "text": [
      "(19020, 9)\n",
      "(19020,)\n"
     ]
    }
   ],
   "source": [
    "print(x.shape)\n",
    "print(y.shape)"
   ]
  },
  {
   "cell_type": "code",
   "execution_count": 5,
   "metadata": {},
   "outputs": [],
   "source": [
    "x_train, x_valtest, y_train, y_valtest = ms.train_test_split(x, y, shuffle = True)\n",
    "x_val, x_test, y_val, y_test = ms.train_test_split(x_valtest, y_valtest, test_size=0.5)"
   ]
  },
  {
   "cell_type": "code",
   "execution_count": 6,
   "metadata": {},
   "outputs": [],
   "source": [
    "def build_tree(x:np.ndarray, y:np.ndarray):\n",
    "    if np.all(y == y[0]):\n",
    "        return y[0]\n",
    "    elif np.all(x == x[0]):\n",
    "        count = ut.count_vals(y)\n",
    "        return ut.dict_max(count)[0]\n",
    "    else:\n",
    "        #info about the split\n",
    "        best_IG = 0\n",
    "        best_feature = None\n",
    "        best_split = None\n",
    "        y_cached_split = []\n",
    "        cached_mask = None\n",
    "        no_ig = True\n",
    "        \n",
    "        E_base = ut.entropy(y)\n",
    "        n = len(y)\n",
    "\n",
    "        for feat in range(x.shape[1]):\n",
    "            split_plane = x[:, feat].mean()\n",
    "            split_mask = x[:, feat] < split_plane\n",
    "            ysubset1 = y[split_mask]\n",
    "            ysubset2 = y[np.logical_not(split_mask)]\n",
    "\n",
    "            E_s1 = ut.entropy(ysubset1)\n",
    "            E_s2 = ut.entropy(ysubset2)\n",
    "            E_s = (E_s1 * len(ysubset1) + E_s2 * len(ysubset2))/ n\n",
    "            IG_s = E_base - E_s\n",
    "\n",
    "            if IG_s >= best_IG:\n",
    "                no_ig = False\n",
    "                best_IG = IG_s\n",
    "                best_feature = feat\n",
    "                best_split = split_plane\n",
    "                y_cached_split = [ysubset1, ysubset2]\n",
    "                cached_mask = split_mask\n",
    "\n",
    "\n",
    "        return {\n",
    "            \"split_feature\":best_feature,\n",
    "            \"split_threshold\":best_split,\n",
    "            \"inf_branch\": build_tree(x[cached_mask], y_cached_split[0]),\n",
    "            \"sup_branch\": build_tree(x[np.logical_not(cached_mask)], y_cached_split[1])\n",
    "        }\n",
    "\n",
    "\n",
    "nones = np.full((x_train.shape[0],), None)\n",
    "def predict_tree(x, mask, tree):\n",
    "    if type(tree) == str:\n",
    "        full = np.full((x.shape[0],), tree)\n",
    "        return np.where(mask, full, nones)\n",
    "    else : \n",
    "        threshold = tree[\"split_threshold\"]\n",
    "        feat = tree[\"split_feature\"]\n",
    "        infmask =  x[:, feat] < threshold\n",
    "        yinf = predict_tree(x, mask & infmask, tree[\"inf_branch\"])\n",
    "        ysup = predict_tree(x, mask & ~infmask, tree[\"sup_branch\"])\n",
    "        return np.where(infmask, yinf, ysup)\n",
    "\n",
    "def predict_tree_v2_worker(x, tree):\n",
    "    if type(tree) == str:\n",
    "        return np.concatenate([x[:,-1].reshape(-1,1), np.full((x.shape[0],1), tree)], axis=1)\n",
    "    else :\n",
    "        threshold = tree[\"split_threshold\"]\n",
    "        feat = tree[\"split_feature\"]\n",
    "        infmask =  x[:, feat] < threshold\n",
    "        xinf = x[infmask]\n",
    "        xsup = x[~infmask]\n",
    "        yinf = predict_tree_v2_worker(xinf, tree[\"inf_branch\"])\n",
    "        ysup = predict_tree_v2_worker(xsup, tree[\"sup_branch\"])\n",
    "        return np.concatenate([yinf, ysup])\n",
    "\n",
    "def predict_tree_v2(x, tree):\n",
    "    indices = np.arange(x.shape[0]).reshape((-1, 1))\n",
    "    preds = predict_tree_v2_worker(np.concatenate([x,indices], axis=1),tree)\n",
    "    preds = preds[preds[:, 0].argsort()]\n",
    "    return preds[:,-1]"
   ]
  },
  {
   "cell_type": "code",
   "execution_count": 7,
   "metadata": {},
   "outputs": [],
   "source": [
    "tree = build_tree(x_train, y_train)"
   ]
  },
  {
   "cell_type": "code",
   "execution_count": 8,
   "metadata": {},
   "outputs": [],
   "source": [
    "pred = predict_tree(x_train, np.full((x_train.shape[0],), True), tree)"
   ]
  },
  {
   "cell_type": "code",
   "execution_count": 9,
   "metadata": {},
   "outputs": [
    {
     "data": {
      "text/plain": [
       "1.0"
      ]
     },
     "execution_count": 9,
     "metadata": {},
     "output_type": "execute_result"
    }
   ],
   "source": [
    "pred2 = predict_tree_v2(x_train, tree)\n",
    "mt.accuracy_score(y_train, pred2)"
   ]
  },
  {
   "cell_type": "code",
   "execution_count": 10,
   "metadata": {},
   "outputs": [
    {
     "data": {
      "text/plain": [
       "1.0"
      ]
     },
     "execution_count": 10,
     "metadata": {},
     "output_type": "execute_result"
    }
   ],
   "source": [
    "mt.accuracy_score(y_train, pred)"
   ]
  },
  {
   "cell_type": "code",
   "execution_count": 11,
   "metadata": {},
   "outputs": [
    {
     "name": "stdout",
     "output_type": "stream",
     "text": [
      "train accuracy : 0.9579390115667719 (not pruned) 0.8677181913774974 (pruned)\n",
      "val accuracy : 0.7904922170803533 (not pruned) 0.8312999579301641 (pruned)\n"
     ]
    }
   ],
   "source": [
    "from json import dump\n",
    "\n",
    "\n",
    "tree_np = DecisionTree()\n",
    "tree_np.fit(x_train, y_train, skip_pruning=True)\n",
    "train_acc_np = mt.accuracy_score(y_train, tree_np(x_train))\n",
    "val_acc_np = mt.accuracy_score(y_val, tree_np(x_val))\n",
    "\n",
    "tree = DecisionTree()\n",
    "tree.fit(x_train, y_train, pruning_size=0.1)\n",
    "train_acc = mt.accuracy_score(y_train, tree(x_train))\n",
    "val_acc = mt.accuracy_score(y_val, tree(x_val))\n",
    "\n",
    "print(\"train accuracy : {} (not pruned) {} (pruned)\".format(train_acc_np, train_acc))\n",
    "print(\"val accuracy : {} (not pruned) {} (pruned)\".format(val_acc_np, val_acc))"
   ]
  },
  {
   "cell_type": "code",
   "execution_count": 12,
   "metadata": {},
   "outputs": [
    {
     "data": {
      "text/plain": [
       "<AxesSubplot:xlabel='prunning_size', ylabel='accuracy'>"
      ]
     },
     "execution_count": 12,
     "metadata": {},
     "output_type": "execute_result"
    },
    {
     "data": {
      "image/png": "[encoded data removed]",
      "text/plain": [
       "<Figure size 432x288 with 1 Axes>"
      ]
     },
     "metadata": {
      "needs_background": "light"
     },
     "output_type": "display_data"
    }
   ],
   "source": [
    "pruning_sizes = list(np.arange(0.025,0.7, 0.025))\n",
    "metrics = pd.DataFrame({\"prunning_size\":[], \"train_acc\":[], \"val_acc\":[], \"np_train_acc\":[], \"np_val_acc\":[]})\n",
    "for s in pruning_sizes:\n",
    "    tree_np = DecisionTree()\n",
    "    tree_np.fit(x_train, y_train, skip_pruning=True, pruning_size=s)\n",
    "    train_acc_np = mt.accuracy_score(y_train, tree_np(x_train))\n",
    "    val_acc_np = mt.accuracy_score(y_val, tree_np(x_val))\n",
    "    tree = DecisionTree()\n",
    "    tree.fit(x_train, y_train, pruning_size=s)\n",
    "    train_acc = mt.accuracy_score(y_train, tree(x_train))\n",
    "    val_acc = mt.accuracy_score(y_val, tree(x_val))\n",
    "    metrics = pd.concat([metrics,pd.DataFrame({\"prunning_size\":[s], \"train_acc\":[train_acc], \"val_acc\":[val_acc], \"np_train_acc\":[train_acc_np], \"np_val_acc\":[val_acc_np]})])\n",
    "\n",
    "ax = metrics.plot.line(\"prunning_size\", \"train_acc\", ylabel = \"accuracy\")\n",
    "metrics.plot.line(\"prunning_size\", \"val_acc\", ax=ax, ylabel = \"accuracy\")\n",
    "#metrics.plot.line(\"prunning_size\", \"np_train_acc\", ax=ax, ylabel = \"accuracy\")\n",
    "metrics.plot.line(\"prunning_size\", \"np_val_acc\", ax=ax, ylabel = \"accuracy\")"
   ]
  },
  {
   "cell_type": "code",
   "execution_count": 2,
   "metadata": {},
   "outputs": [],
   "source": [
    "ndarray = np.arange(20000000)\n",
    "l = list(ndarray)"
   ]
  },
  {
   "cell_type": "code",
   "execution_count": 3,
   "metadata": {},
   "outputs": [],
   "source": [
    "l = [2*x for x in l]"
   ]
  },
  {
   "cell_type": "code",
   "execution_count": 4,
   "metadata": {},
   "outputs": [],
   "source": [
    "ndarray = ndarray*2"
   ]
  },
  {
   "cell_type": "code",
   "execution_count": null,
   "metadata": {},
   "outputs": [],
   "source": [
    "lb = []\n",
    "for i in l:\n",
    "    lb.append(i*2)"
   ]
  }
 ],
 "metadata": {
  "kernelspec": {
   "display_name": "Python 3.9.12 ('base')",
   "language": "python",
   "name": "python3"
  },
  "language_info": {
   "codemirror_mode": {
    "name": "ipython",
    "version": 3
   },
   "file_extension": ".py",
   "mimetype": "text/x-python",
   "name": "python",
   "nbconvert_exporter": "python",
   "pygments_lexer": "ipython3",
   "version": "3.9.12"
  },
  "orig_nbformat": 4,
  "vscode": {
   "interpreter": {
    "hash": "00ac5b3ec3b12fe3af505265be4e9c5a25cf217596f96e581d4215f1d1bdbd85"
   }
  }
 },
 "nbformat": 4,
 "nbformat_minor": 2
}
