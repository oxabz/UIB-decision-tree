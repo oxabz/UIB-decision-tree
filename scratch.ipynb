{
 "cells": [
  {
   "cell_type": "code",
   "execution_count": 2,
   "metadata": {},
   "outputs": [],
   "source": [
    "%load_ext autoreload\n",
    "%autoreload 2\n",
    "import pandas as pd\n",
    "import numpy as np\n",
    "import utils as ut\n",
    "from decision_tree import DecisionTree\n",
    "from math import log2\n",
    "from utils import count_vals\n",
    "from sklearn import model_selection as ms\n",
    "from sklearn import metrics as mt\n",
    "import matplotlib.pyplot as plt"
   ]
  },
  {
   "cell_type": "markdown",
   "metadata": {},
   "source": [
    "## Loading data"
   ]
  },
  {
   "cell_type": "code",
   "execution_count": 3,
   "metadata": {},
   "outputs": [],
   "source": [
    "path = \"magic04.data\"\n",
    "\n",
    "data = pd.read_csv(path, header=None).to_numpy()\n",
    "\n",
    "x = data[:, 0:9]\n",
    "y = data[:, 10]"
   ]
  },
  {
   "cell_type": "code",
   "execution_count": 4,
   "metadata": {},
   "outputs": [
    {
     "name": "stdout",
     "output_type": "stream",
     "text": [
      "(19020, 9)\n",
      "(19020,)\n"
     ]
    }
   ],
   "source": [
    "print(x.shape)\n",
    "print(y.shape)"
   ]
  },
  {
   "cell_type": "code",
   "execution_count": 5,
   "metadata": {},
   "outputs": [],
   "source": [
    "x_train, x_valtest, y_train, y_valtest = ms.train_test_split(x, y, shuffle = True)\n",
    "x_val, x_test, y_val, y_test = ms.train_test_split(x_valtest, y_valtest, test_size=0.5)"
   ]
  },
  {
   "cell_type": "code",
   "execution_count": 6,
   "metadata": {},
   "outputs": [],
   "source": [
    "def build_tree(x:np.ndarray, y:np.ndarray):\n",
    "    if np.all(y == y[0]):\n",
    "        return y[0]\n",
    "    elif np.all(x == x[0]):\n",
    "        count = ut.count_vals(y)\n",
    "        return ut.dict_max(count)[0]\n",
    "    else:\n",
    "        #info about the split\n",
    "        best_IG = 0\n",
    "        best_feature = None\n",
    "        best_split = None\n",
    "        y_cached_split = []\n",
    "        cached_mask = None\n",
    "        no_ig = True\n",
    "        \n",
    "        E_base = ut.entropy(y)\n",
    "        n = len(y)\n",
    "\n",
    "        for feat in range(x.shape[1]):\n",
    "            split_plane = x[:, feat].mean()\n",
    "            split_mask = x[:, feat] < split_plane\n",
    "            ysubset1 = y[split_mask]\n",
    "            ysubset2 = y[np.logical_not(split_mask)]\n",
    "\n",
    "            E_s1 = ut.entropy(ysubset1)\n",
    "            E_s2 = ut.entropy(ysubset2)\n",
    "            E_s = (E_s1 * len(ysubset1) + E_s2 * len(ysubset2))/ n\n",
    "            IG_s = E_base - E_s\n",
    "\n",
    "            if IG_s >= best_IG:\n",
    "                no_ig = False\n",
    "                best_IG = IG_s\n",
    "                best_feature = feat\n",
    "                best_split = split_plane\n",
    "                y_cached_split = [ysubset1, ysubset2]\n",
    "                cached_mask = split_mask\n",
    "\n",
    "\n",
    "        return {\n",
    "            \"split_feature\":best_feature,\n",
    "            \"split_threshold\":best_split,\n",
    "            \"inf_branch\": build_tree(x[cached_mask], y_cached_split[0]),\n",
    "            \"sup_branch\": build_tree(x[np.logical_not(cached_mask)], y_cached_split[1])\n",
    "        }\n",
    "\n",
    "\n",
    "nones = np.full((x_train.shape[0],), None)\n",
    "def predict_tree(x, mask, tree):\n",
    "    if type(tree) == str:\n",
    "        full = np.full((x.shape[0],), tree)\n",
    "        return np.where(mask, full, nones)\n",
    "    else : \n",
    "        threshold = tree[\"split_threshold\"]\n",
    "        feat = tree[\"split_feature\"]\n",
    "        infmask =  x[:, feat] < threshold\n",
    "        yinf = predict_tree(x, mask & infmask, tree[\"inf_branch\"])\n",
    "        ysup = predict_tree(x, mask & ~infmask, tree[\"sup_branch\"])\n",
    "        return np.where(infmask, yinf, ysup)\n",
    "\n",
    "def predict_tree_v2_worker(x, tree):\n",
    "    if type(tree) == str:\n",
    "        return np.concatenate([x[:,-1].reshape(-1,1), np.full((x.shape[0],1), tree)], axis=1)\n",
    "    else :\n",
    "        threshold = tree[\"split_threshold\"]\n",
    "        feat = tree[\"split_feature\"]\n",
    "        infmask =  x[:, feat] < threshold\n",
    "        xinf = x[infmask]\n",
    "        xsup = x[~infmask]\n",
    "        yinf = predict_tree_v2_worker(xinf, tree[\"inf_branch\"])\n",
    "        ysup = predict_tree_v2_worker(xsup, tree[\"sup_branch\"])\n",
    "        return np.concatenate([yinf, ysup])\n",
    "\n",
    "def predict_tree_v2(x, tree):\n",
    "    indices = np.arange(x.shape[0]).reshape((-1, 1))\n",
    "    preds = predict_tree_v2_worker(np.concatenate([x,indices], axis=1),tree)\n",
    "    preds = preds[preds[:, 0].argsort()]\n",
    "    return preds[:,-1]"
   ]
  },
  {
   "cell_type": "code",
   "execution_count": 7,
   "metadata": {},
   "outputs": [],
   "source": [
    "tree = build_tree(x_train, y_train)"
   ]
  },
  {
   "cell_type": "code",
   "execution_count": 8,
   "metadata": {},
   "outputs": [],
   "source": [
    "pred = predict_tree(x_train, np.full((x_train.shape[0],), True), tree)"
   ]
  },
  {
   "cell_type": "code",
   "execution_count": 9,
   "metadata": {},
   "outputs": [
    {
     "data": {
      "text/plain": [
       "1.0"
      ]
     },
     "execution_count": 9,
     "metadata": {},
     "output_type": "execute_result"
    }
   ],
   "source": [
    "pred2 = predict_tree_v2(x_train, tree)\n",
    "mt.accuracy_score(y_train, pred2)"
   ]
  },
  {
   "cell_type": "code",
   "execution_count": 10,
   "metadata": {},
   "outputs": [
    {
     "data": {
      "text/plain": [
       "1.0"
      ]
     },
     "execution_count": 10,
     "metadata": {},
     "output_type": "execute_result"
    }
   ],
   "source": [
    "mt.accuracy_score(y_train, pred)"
   ]
  },
  {
   "cell_type": "code",
   "execution_count": 42,
   "metadata": {},
   "outputs": [
    {
     "name": "stdout",
     "output_type": "stream",
     "text": [
      "digraph D {\n",
      "   g1[shape=box label=\"g\\n x[8] < 27.60\\n{'h': 483, 'g': 944}\"]\n",
      "   g2[shape=box label=\"g\\n x[8] < 9.46\\n{'h': 161, 'g': 715}\"]\n",
      "   g1 -> g2\n",
      "   g3[label=\"g\\n{'g': 468, 'h': 62}\"]\n",
      "   g2 -> g3 \n",
      "   g4[shape=box label=\"g\\n x[0] < 45.89\\n{'h': 99, 'g': 247}\"]\n",
      "   g2 -> g4\n",
      "   g5[label=\"g\\n{'h': 49, 'g': 189}\"]\n",
      "   g4 -> g5 \n",
      "   h6[shape=box label=\"h\\n x[0] < 88.76\\n{'h': 50, 'g': 58}\"]\n",
      "   g4 -> h6\n",
      "   g7[shape=box label=\"g\\n x[8] < 15.94\\n{'g': 50, 'h': 21}\"]\n",
      "   h6 -> g7\n",
      "   g8[label=\"g\\n{'g': 33, 'h': 6}\"]\n",
      "   g7 -> g8 \n",
      "   h9[shape=box label=\"h\\n x[6] < 16.82\\n{'g': 17, 'h': 15}\"]\n",
      "   g7 -> h9\n",
      "   h10[label=\"h\\n{'g': 4, 'h': 5}\"]\n",
      "   h9 -> h10 \n",
      "   g11[shape=box label=\"g\\n x[3] < 0.26\\n{'g': 13, 'h': 10}\"]\n",
      "   h9 -> g11\n",
      "   g12[shape=box label=\"g\\n x[0] < 67.39\\n{'g': 11, 'h': 3}\"]\n",
      "   g11 -> g12\n",
      "   g13[label=\"g\\n{'g': 8}\"]\n",
      "   g12 -> g13 \n",
      "   h14[shape=box label=\"h\\n x[5] < 0.58\\n{'g': 3, 'h': 3}\"]\n",
      "   g12 -> h14\n",
      "   h15[label=\"h\\n{'h': 2}\"]\n",
      "   h14 -> h15 \n",
      "   g16[shape=box label=\"g\\n x[6] < 69.77\\n{'g': 3, 'h': 1}\"]\n",
      "   h14 -> g16\n",
      "   g17[shape=box label=\"g\\n x[6] < 57.42\\n{'h': 1}\"]\n",
      "   g16 -> g17\n",
      "   h18[label=\"h\\n{'h': 1}\"]\n",
      "   g17 -> h18 \n",
      "   g19[label=\"g\\n{}\"]\n",
      "   g17 -> g19 \n",
      "   g20[label=\"g\\n{'g': 3}\"]\n",
      "   g16 -> g20 \n",
      "   h21[label=\"h\\n{'g': 2, 'h': 7}\"]\n",
      "   g11 -> h21 \n",
      "   h22[label=\"h\\n{'h': 29, 'g': 8}\"]\n",
      "   h6 -> h22 \n",
      "   h23[shape=box label=\"h\\n x[0] < 54.06\\n{'h': 322, 'g': 229}\"]\n",
      "   g1 -> h23\n",
      "   g24[shape=box label=\"g\\n x[2] < 2.51\\n{'h': 189, 'g': 218}\"]\n",
      "   h23 -> g24\n",
      "   g25[label=\"g\\n{'h': 78, 'g': 142}\"]\n",
      "   g24 -> g25 \n",
      "   h26[shape=box label=\"h\\n x[1] < 16.37\\n{'h': 111, 'g': 76}\"]\n",
      "   g24 -> h26\n",
      "   h27[label=\"h\\n{'g': 24, 'h': 78}\"]\n",
      "   h26 -> h27 \n",
      "   g28[shape=box label=\"g\\n x[0] < 33.19\\n{'h': 33, 'g': 52}\"]\n",
      "   h26 -> g28\n",
      "   g29[label=\"g\\n{'h': 10, 'g': 44}\"]\n",
      "   g28 -> g29 \n",
      "   h30[label=\"h\\n{'h': 23, 'g': 8}\"]\n",
      "   g28 -> h30 \n",
      "   h31[label=\"h\\n{'h': 133, 'g': 11}\"]\n",
      "   h23 -> h31 \n",
      "}\n",
      "train accuracy : 0.9374693305292674 (not pruned) 0.8216614090431125 (pruned)\n",
      "val accuracy : 0.7875473285654186 (not pruned) 0.8212031973075306 (pruned)\n"
     ]
    }
   ],
   "source": [
    "from json import dump\n",
    "\n",
    "\n",
    "tree_np = DecisionTree()\n",
    "tree_np.fit(x_train, y_train, skip_pruning=True)\n",
    "train_acc_np = mt.accuracy_score(y_train, tree_np(x_train))\n",
    "val_acc_np = mt.accuracy_score(y_val, tree_np(x_val))\n",
    "\n",
    "tree = DecisionTree()\n",
    "tree.fit(x_train, y_train, pruning_size=0.1)\n",
    "train_acc = mt.accuracy_score(y_train, tree(x_train))\n",
    "val_acc = mt.accuracy_score(y_val, tree(x_val))\n",
    "\n",
    "print(\"train accuracy : {} (not pruned) {} (pruned)\".format(train_acc_np, train_acc))\n",
    "print(\"val accuracy : {} (not pruned) {} (pruned)\".format(val_acc_np, val_acc))"
   ]
  },
  {
   "cell_type": "code",
   "execution_count": 12,
   "metadata": {},
   "outputs": [
    {
     "data": {
      "text/plain": [
       "<AxesSubplot:xlabel='prunning_size', ylabel='accuracy'>"
      ]
     },
     "execution_count": 12,
     "metadata": {},
     "output_type": "execute_result"
    },
    {
     "data": {
      "image/png": "[encoded data removed]",
      "text/plain": [
       "<Figure size 432x288 with 1 Axes>"
      ]
     },
     "metadata": {
      "needs_background": "light"
     },
     "output_type": "display_data"
    }
   ],
   "source": [
    "pruning_sizes = list(np.arange(0.025,0.7, 0.025))\n",
    "metrics = pd.DataFrame({\"prunning_size\":[], \"train_acc\":[], \"val_acc\":[], \"np_train_acc\":[], \"np_val_acc\":[]})\n",
    "for s in pruning_sizes:\n",
    "    tree_np = DecisionTree()\n",
    "    tree_np.fit(x_train, y_train, skip_pruning=True, pruning_size=s)\n",
    "    train_acc_np = mt.accuracy_score(y_train, tree_np(x_train))\n",
    "    val_acc_np = mt.accuracy_score(y_val, tree_np(x_val))\n",
    "    tree = DecisionTree()\n",
    "    tree.fit(x_train, y_train, pruning_size=s)\n",
    "    train_acc = mt.accuracy_score(y_train, tree(x_train))\n",
    "    val_acc = mt.accuracy_score(y_val, tree(x_val))\n",
    "    metrics = pd.concat([metrics,pd.DataFrame({\"prunning_size\":[s], \"train_acc\":[train_acc], \"val_acc\":[val_acc], \"np_train_acc\":[train_acc_np], \"np_val_acc\":[val_acc_np]})])\n",
    "\n",
    "ax = metrics.plot.line(\"prunning_size\", \"train_acc\", ylabel = \"accuracy\")\n",
    "metrics.plot.line(\"prunning_size\", \"val_acc\", ax=ax, ylabel = \"accuracy\")\n",
    "#metrics.plot.line(\"prunning_size\", \"np_train_acc\", ax=ax, ylabel = \"accuracy\")\n",
    "metrics.plot.line(\"prunning_size\", \"np_val_acc\", ax=ax, ylabel = \"accuracy\")"
   ]
  }
 ],
 "metadata": {
  "kernelspec": {
   "display_name": "Python 3.9.12 ('base')",
   "language": "python",
   "name": "python3"
  },
  "language_info": {
   "codemirror_mode": {
    "name": "ipython",
    "version": 3
   },
   "file_extension": ".py",
   "mimetype": "text/x-python",
   "name": "python",
   "nbconvert_exporter": "python",
   "pygments_lexer": "ipython3",
   "version": "3.9.12"
  },
  "orig_nbformat": 4,
  "vscode": {
   "interpreter": {
    "hash": "00ac5b3ec3b12fe3af505265be4e9c5a25cf217596f96e581d4215f1d1bdbd85"
   }
  }
 },
 "nbformat": 4,
 "nbformat_minor": 2
}
